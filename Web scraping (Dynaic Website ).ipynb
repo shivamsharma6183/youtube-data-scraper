{
 "cells": [
  {
   "cell_type": "code",
   "execution_count": 7,
   "id": "cac684b5",
   "metadata": {},
   "outputs": [],
   "source": [
    "import pandas as pd"
   ]
  },
  {
   "cell_type": "code",
   "execution_count": 12,
   "id": "25ab0817",
   "metadata": {},
   "outputs": [
    {
     "name": "stdout",
     "output_type": "stream",
     "text": [
      "                                                title       views  \\\n",
      "0   Is This Data Engineering Technique Useful for ...  1.1K views   \n",
      "1              I swapped to Scrapy, was it a Mistake?    2K views   \n",
      "2   I Don't Parse with Selenium (Just get me the H...  2.3K views   \n",
      "3        Sending API URL Queries with Python Requests  3.2K views   \n",
      "4                                                                   \n",
      "5                                                                   \n",
      "6   Always Check for the Hidden API when Web Scraping  530K views   \n",
      "7   Scrapy for Beginners - A Complete How To Examp...  230K views   \n",
      "8        How to SCRAPE DYNAMIC websites with Selenium  145K views   \n",
      "9   Web Scraping with Python: Ecommerce Product Pa...  126K views   \n",
      "10                                                                  \n",
      "11                                                                  \n",
      "12           Chatting Web Scraping & Looking at Repos  1.2K views   \n",
      "13             Chatting Web Scraping Projects in 2023  1.4K views   \n",
      "14  Live chatting Web Scraping Projects, tips and ...  1.3K views   \n",
      "15  Live chatting Web Scraping Projects, tips and ...   982 views   \n",
      "16                                                                  \n",
      "17                                                                  \n",
      "\n",
      "                   posted  \n",
      "0               1 day ago  \n",
      "1              5 days ago  \n",
      "2              9 days ago  \n",
      "3             2 weeks ago  \n",
      "4                          \n",
      "5                          \n",
      "6             2 years ago  \n",
      "7             2 years ago  \n",
      "8             3 years ago  \n",
      "9             3 years ago  \n",
      "10                         \n",
      "11                         \n",
      "12  Streamed 8 months ago  \n",
      "13  Streamed 8 months ago  \n",
      "14  Streamed 8 months ago  \n",
      "15  Streamed 8 months ago  \n",
      "16                         \n",
      "17                         \n"
     ]
    }
   ],
   "source": [
    "from selenium import webdriver\n",
    "from selenium.webdriver.common.by import By\n",
    "\n",
    "url = 'https://www.youtube.com/@JohnWatsonRooney'\n",
    "driver = webdriver.Edge()\n",
    "driver.get(url)\n",
    "videos = driver.find_elements(By.CLASS_NAME,\n",
    "                              'style-scope ytd-grid-video-renderer')\n",
    "video_list = []\n",
    "for video in videos:\n",
    "    title = video.find_element(By.XPATH, './/*[@id=\"video-title\"]').text\n",
    "    views = video.find_element(By.XPATH,\n",
    "                               './/*[@id=\"metadata-line\"]/span[1]').text\n",
    "    when = video.find_element(By.XPATH,\n",
    "                              './/*[@id=\"metadata-line\"]/span[2]').text\n",
    "    vid_item = {'title': title, 'views': views, 'posted': when}\n",
    "    video_list.append(vid_item)\n",
    "\n",
    "df = pd.DataFrame(video_list)\n",
    "print(df)"
   ]
  },
  {
   "cell_type": "code",
   "execution_count": 9,
   "id": "244c94b1",
   "metadata": {},
   "outputs": [
    {
     "name": "stdout",
     "output_type": "stream",
     "text": [
      "  title views posted\n",
      "0                   \n"
     ]
    }
   ],
   "source": [
    "video_list = []\n",
    "vid_item = {'title': title, 'views': views, 'posted': when}\n",
    "video_list.append(vid_item)\n",
    "\n",
    "df = pd.DataFrame(video_list)\n",
    "print(df)"
   ]
  },
  {
   "cell_type": "code",
   "execution_count": null,
   "id": "0ce44d25",
   "metadata": {},
   "outputs": [],
   "source": []
  },
  {
   "cell_type": "code",
   "execution_count": null,
   "id": "ad123d79",
   "metadata": {},
   "outputs": [],
   "source": []
  },
  {
   "cell_type": "code",
   "execution_count": null,
   "id": "0c827298",
   "metadata": {},
   "outputs": [],
   "source": []
  },
  {
   "cell_type": "code",
   "execution_count": 4,
   "id": "fb63b208",
   "metadata": {},
   "outputs": [
    {
     "name": "stdout",
     "output_type": "stream",
     "text": [
      "Is This Data Engineering Technique Useful for Scraping? 1.1K views 1 day ago\n"
     ]
    }
   ],
   "source": [
    " print(title,views,when)"
   ]
  },
  {
   "cell_type": "code",
   "execution_count": null,
   "id": "2853ff7d",
   "metadata": {},
   "outputs": [],
   "source": [
    "#style-scope ytd-grid-video-renderer"
   ]
  },
  {
   "cell_type": "markdown",
   "id": "d21d557d",
   "metadata": {},
   "source": [
    "### //*[@id=\"video-title\"]\n",
    "//*[@id=\"metadata-line\"]/span[1]\n",
    "//*[@id=\"metadata-line\"]/span[2] \n",
    "###\n"
   ]
  },
  {
   "cell_type": "code",
   "execution_count": null,
   "id": "b6e193ee",
   "metadata": {},
   "outputs": [],
   "source": []
  },
  {
   "cell_type": "code",
   "execution_count": null,
   "id": "58eceaef",
   "metadata": {},
   "outputs": [],
   "source": []
  }
 ],
 "metadata": {
  "kernelspec": {
   "display_name": "Python 3 (ipykernel)",
   "language": "python",
   "name": "python3"
  },
  "language_info": {
   "codemirror_mode": {
    "name": "ipython",
    "version": 3
   },
   "file_extension": ".py",
   "mimetype": "text/x-python",
   "name": "python",
   "nbconvert_exporter": "python",
   "pygments_lexer": "ipython3",
   "version": "3.9.7"
  }
 },
 "nbformat": 4,
 "nbformat_minor": 5
}
